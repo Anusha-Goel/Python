{
  "nbformat": 4,
  "nbformat_minor": 0,
  "metadata": {
    "colab": {
      "name": "Task1.ipynb",
      "provenance": []
    },
    "kernelspec": {
      "name": "python3",
      "display_name": "Python 3"
    },
    "language_info": {
      "name": "python"
    }
  },
  "cells": [
    {
      "cell_type": "code",
      "execution_count": 2,
      "metadata": {
        "colab": {
          "base_uri": "https://localhost:8080/"
        },
        "id": "MzCr0ZoUDsJy",
        "outputId": "886047d3-d348-4372-b5ea-57d8d307a9e5"
      },
      "outputs": [
        {
          "output_type": "stream",
          "name": "stdout",
          "text": [
            "           *\n",
            "          ***\n",
            "         *****\n",
            "        *******\n",
            "       *********\n",
            "      ***********\n",
            "     *************\n",
            "    ***************\n",
            "   *****************\n",
            "  *******************\n",
            "   *****************\n",
            "    ***************\n",
            "     *************\n",
            "      ***********\n",
            "       *********\n",
            "        *******\n",
            "         *****\n",
            "          ***\n",
            "           *\n"
          ]
        }
      ],
      "source": [
        "for x in range(10):\n",
        "    print(\" \" * (10 - x), \"*\" * (2*x + 1))\n",
        "for x in range(10 - 2, -1, -1):\n",
        "    print(\" \" * (10 - x), \"*\" * (2*x + 1))"
      ]
    }
  ]
}